{
 "cells": [
  {
   "cell_type": "markdown",
   "id": "cbdff5a5",
   "metadata": {},
   "source": [
    "# Módulo 5 - Funções\n",
    "\n",
    "## Aulas 5.2 - Funções Customizadas e 5.4 Funções ```lambda```"
   ]
  },
  {
   "cell_type": "markdown",
   "id": "28a3fee2",
   "metadata": {},
   "source": [
    "### Q1.\n",
    "\n",
    "- Sabendo que o código a seguir calcula o fatorial de n, escreva uma função chamada ```fatorial()``` que recebe um inteiro ```n``` como parâmetro e retorna o resultado do fatorial de ```n```. \n",
    "- No programa principal, peça ao usuário o valor de ```n```, chame a sua função e imprima o retorno.\n",
    "\n",
    "```python\n",
    "fat = 1\n",
    "for i in range(1, n+1):\n",
    "    fat *= i \n",
    "```"
   ]
  },
  {
   "cell_type": "code",
   "execution_count": 5,
   "id": "d126b3a5",
   "metadata": {},
   "outputs": [],
   "source": [
    "## Crie aqui a função fatorial()\n",
    "## lembre-se de executar a célula para que \n",
    "## a função passe a existir e possa ser chamada\n",
    "def fFatorial(n):\n",
    "    nFatorial=1\n",
    "    for i in range(1,n+1,1):\n",
    "        nFatorial=nFatorial*i\n",
    "    return nFatorial"
   ]
  },
  {
   "cell_type": "code",
   "execution_count": 9,
   "id": "6e4fe64e",
   "metadata": {},
   "outputs": [
    {
     "name": "stdout",
     "output_type": "stream",
     "text": [
      "N! = 6\n"
     ]
    }
   ],
   "source": [
    "## Escreva aqui o programa principal e execute a célula\n",
    "n=int(input(\"Informe o valor de N: \"))\n",
    "print(f\"N! = {fFatorial(n)}\")"
   ]
  },
  {
   "cell_type": "markdown",
   "id": "c0a1f599",
   "metadata": {},
   "source": [
    "### Q2.\n",
    "\n",
    "- Escreva uma função em Python chamada ```soma_quadrados``` que recebe dois números como parâmetros e retorna a soma dos seus quadrados. \n",
    "- No programa principal solicite ao usuário que insira dois números e utilize a função para exibir a soma dos quadrados."
   ]
  },
  {
   "cell_type": "code",
   "execution_count": 11,
   "id": "6dbddaad",
   "metadata": {},
   "outputs": [],
   "source": [
    "## Crie aqui a função soma_quadrados()\n",
    "def fSoma_Quadrados(a,b):\n",
    "    print(f\"A soma dos quadrados é: {(a*a)+(b*b)}\") "
   ]
  },
  {
   "cell_type": "code",
   "execution_count": 14,
   "id": "9175a7da",
   "metadata": {},
   "outputs": [
    {
     "name": "stdout",
     "output_type": "stream",
     "text": [
      "A soma dos quadrados é: 29\n"
     ]
    }
   ],
   "source": [
    "## Escreva aqui o programa principal e execute a célula\n",
    "nNum1=int(input(\"Insira o primeiro número:\"))\n",
    "nNum2=int(input(\"Insira o segundo número:\"))\n",
    "fSoma_Quadrados(nNum1,nNum2)"
   ]
  },
  {
   "cell_type": "markdown",
   "id": "6ba34ce0",
   "metadata": {},
   "source": [
    "### Q3.\n",
    "\n",
    "- Crie uma função em Python chamada ```soma_digitos``` que recebe um número inteiro como parâmetro e retorna a soma dos seus dígitos. Por exemplo, para o número 123, a função deve retornar 6, $(1 + 2 + 3)$.\n",
    "    - O desafio aqui é separar os dígitos de um número inteiro usando operações aritméticas <br> <br>\n",
    "\n",
    "- No programa principal solicite ao usuário que insira um número e utilize a função ```soma_digitos``` para calcular e exibir a soma dos seus dígitos."
   ]
  },
  {
   "cell_type": "code",
   "execution_count": 26,
   "id": "34838ebf",
   "metadata": {},
   "outputs": [],
   "source": [
    "## Crie aqui a função soma_digitos()\n",
    "def fSoma_digitos(nNum):\n",
    "    nResto=0\n",
    "    nSoma=0\n",
    "    while (nNum!=0):\n",
    "        nResto=nNum%10\n",
    "        nSoma=nSoma+nResto\n",
    "        nNum=nNum//10\n",
    "    print(f\"A soma dos dígitos é: {nSoma}\")  "
   ]
  },
  {
   "cell_type": "code",
   "execution_count": 27,
   "id": "27c35b21",
   "metadata": {},
   "outputs": [
    {
     "name": "stdout",
     "output_type": "stream",
     "text": [
      "A soma dos dígitos é: 6\n"
     ]
    }
   ],
   "source": [
    "## Escreva aqui o programa principal e execute a célula\n",
    "nNum1=int(input(\"Informe o valor de N: \"))\n",
    "fSoma_digitos(nNum1)"
   ]
  },
  {
   "cell_type": "markdown",
   "id": "c318b159",
   "metadata": {},
   "source": [
    "### Q4.\n",
    "\n",
    "- Crie a função ```inverteValor()``` que recebe um inteiro de qualquer tamanho e retorna esse valor invertido usando apenas operações aritméticas\n",
    "- Crie a função ```verificaInverso()``` que recebe o valor original e o valor invertido e retorna verdadeiro se ambos forem igualmente par ou igualmente ímpar. Retorne falso caso contrário.\n",
    "- No programa principal, peça um valor do usuário e imprima o retorno de ambas as funções.\n"
   ]
  },
  {
   "cell_type": "code",
   "execution_count": 51,
   "id": "e4e47d1d",
   "metadata": {},
   "outputs": [],
   "source": [
    "## Crie aqui as funções inverteValor() e verificaInverso()\n",
    "def fInverte_Valor(nNum1):\n",
    "    nResto=0\n",
    "    sNumInvertido=\"\"\n",
    "    while (nNum1!=0):\n",
    "        sResto=str(nNum1%10)\n",
    "        sNumInvertido=sNumInvertido+sResto\n",
    "        nNum1=nNum1//10\n",
    "    return sNumInvertido  \n",
    "\n",
    "def fVerifica_Inverso(nNum1, nNum2):\n",
    "    if (((nNum1 % 2) == 0) and ((nNum2 % 2) == 0)):\n",
    "        print(f\"Números são pares\")\n",
    "        return True #Números são pares\n",
    "    \n",
    "    elif (((nNum1%2)!=0) and ((nNum2%2)!=0)):\n",
    "        print(\"Números são ímpares\") \n",
    "        return True #Números são ímpares\n",
    "    else:\n",
    "        print(\"Um números é par e o outro é ímpar\")\n",
    "        return False\n"
   ]
  },
  {
   "cell_type": "code",
   "execution_count": 54,
   "id": "a9514e56",
   "metadata": {},
   "outputs": [
    {
     "name": "stdout",
     "output_type": "stream",
     "text": [
      "Números são pares\n",
      "O número original é: 426\n",
      "O número invertido é: 624\n",
      "Verifica Inverso é: True\n"
     ]
    }
   ],
   "source": [
    "## Escreva aqui o programa principal e execute a célula\n",
    "nNum1=int(input(\"Informe um número inteiro: \"))\n",
    "sNum2=fInverte_Valor(nNum1)\n",
    "bVerifica=fVerifica_Inverso(nNum1, int(sNum2))\n",
    "print(f\"O número original é: {nNum1}\")\n",
    "print(f\"O número invertido é: {sNum2}\")\n",
    "print(f\"Verifica Inverso é: {bVerifica}\")"
   ]
  },
  {
   "cell_type": "markdown",
   "id": "329be966",
   "metadata": {},
   "source": [
    "### Q5.\n",
    "\n",
    "Você está desenvolvendo um programa para auxiliar em cálculos de geometria básica. Crie as seguintes funções:\n",
    "- A função ```calcula_perimetro_triangulo()``` que recebe três inteiros correspondentes aos lados de um triângulo e retorna o perímetro do triângulo, ou seja, a soma dos seus lados.\n",
    "- A função ```calcula_perimetro_circulo()``` que recebe um inteiro referente ao raio do círculo e retorna o perímetro do círculo, dado por $2 \\pi r$. Use a constante $\\pi$ da biblioteca ```math```.\n",
    "- A função ```calcula_perimetro_retangulo()``` que possui um parâmetro obrigatório ```lado1``` e um opcional ```lado2```, ambos inteiros. Se o valor opcional não for fornecido, significa que se trata de um quadrado. Sua função deve calcular e retornar o perímetro do retângulo, ou seja, a soma de seus lados. \n",
    "    - Para o quadrado, é dado por $4 \\times lado1$\n",
    "    - Para o retângulo é dado por $2 \\times lado1 + 2 \\times lado2$\n",
    "    \n",
    "- No programa principal apresente um menu com as opções disponíveis do seu sistema e uma quarta opção ```Sair```. Solicite ao usuário a opção desejada, solicite as entradas correspondentes à opção escolhida, invoque a respective função e apresente o seu retorno. Seu programa deve retornar ao menu até que o usuário escolha a opção ```Sair```\n",
    "\n",
    "Exemplo de interação:\n",
    "```\n",
    "1 - Calcular perímetro triângulo\n",
    "2 - Calcular perímetro círculo\n",
    "3 - Calcular perímetro retângulo\n",
    "4 - Sair\n",
    "\n",
    "Opção: 1\n",
    "Digite os três lados do triângulo:\n",
    "3\n",
    "4\n",
    "5\n",
    "O perímetro é: 12\n",
    "\n",
    "1 - Calcular perímetro triângulo\n",
    "2 - Calcular perímetro círculo\n",
    "3 - Calcular perímetro retângulo\n",
    "4 - Sair\n",
    "\n",
    "Opção: 3\n",
    "Informe os dois lados do retângulo. Se for um quadrado, digite 0 para o segundo valor:\n",
    "5\n",
    "0\n",
    "O perímetro é: 20\n",
    "\n",
    "1 - Calcular perímetro triângulo\n",
    "2 - Calcular perímetro círculo\n",
    "3 - Calcular perímetro retângulo\n",
    "4 - Sair\n",
    "\n",
    "Opção: 4\n",
    "```"
   ]
  },
  {
   "cell_type": "code",
   "execution_count": 56,
   "id": "0793d328",
   "metadata": {},
   "outputs": [],
   "source": [
    "## Crie aqui as funções \n",
    "def fCalcula_Perimetro_Triangulo(a,b,c):\n",
    "    return (a+b+c)\n",
    "\n",
    "def fCalcula_Perimetro_Circulo(raio): \n",
    "    import math\n",
    "    return (2*math.pi*raio)\n",
    "\n",
    "def fCalcula_Perimetro_Retangulo(a,b):\n",
    "    #se não forneceu b, então b=a (quadrado)\n",
    "    if (b==0): \n",
    "        b=a\n",
    "    return ((2*a)+(2*b))"
   ]
  },
  {
   "cell_type": "code",
   "execution_count": 67,
   "id": "36269c71",
   "metadata": {},
   "outputs": [
    {
     "name": "stdout",
     "output_type": "stream",
     "text": [
      "O perímetro do triângulo é: 6.00\n",
      "O perímetro do círculo é: 12.57\n",
      "O perímetro do retângulo é: 16.00\n",
      "O perímetro do retângulo é: 18.00\n"
     ]
    }
   ],
   "source": [
    "## Escreva aqui o programa principal\n",
    "sOpcao=input(\"Escolha a operação: t: perímetro triângulo; c: perímetro círculo; r: perímetro retângulo; S: sair\")\n",
    "while (sOpcao != 's'):\n",
    "    if (sOpcao == 't'):\n",
    "        sOpcao='triângulo'\n",
    "        nNum1=float(input(\"Insira o lado 'a' do Triângulo: \"))\n",
    "        nNum2=float(input(\"Insira o lado 'b' do Triângulo: \"))\n",
    "        nNum3=float(input(\"Insira o lado 'c' do Triângulo: \"))\n",
    "        nPerimetro=fCalcula_Perimetro_Triangulo(nNum1, nNum2, nNum3)\n",
    "    elif (sOpcao == 'c'):\n",
    "        sOpcao='círculo'\n",
    "        nNum1=float(input(\"Insira o raio do círculo: \"))\n",
    "        nPerimetro=fCalcula_Perimetro_Circulo(nNum1)\n",
    "    elif (sOpcao == 'r'): \n",
    "        sOpcao='retângulo'\n",
    "        nNum1=float(input(\"Insira o lado 'a' do retângulo: \"))\n",
    "        nNum2=float(input(\"Insira o lado 'b'do retângulo (se for quadrado insira 0(zero)): \"))\n",
    "        nPerimetro=fCalcula_Perimetro_Retangulo(nNum1, nNum2)\n",
    "    print(f\"O perímetro do {sOpcao} é: {nPerimetro:,.2f}\")\n",
    "    sOpcao=input(\"Escolha a operação: t: perímetro triângulo; c: perímetro círculo; r: perímetro retângulo; S: sair\")\n",
    "    if (sOpcao == 's'):\n",
    "        break"
   ]
  },
  {
   "cell_type": "markdown",
   "id": "3016bcc7",
   "metadata": {},
   "source": [
    "## Funções ```lambda```"
   ]
  },
  {
   "cell_type": "markdown",
   "id": "f9cdb8dd",
   "metadata": {},
   "source": [
    "### Q6.\n",
    "\n",
    "Crie uma função lambda para verificar se um número é par ou ímpar. Em seguida, solicite ao usuário um número indefinidos de valores (até que o usuário digite 0). Para cada valor de entrada, informe se é par ou ímpar.\n",
    "\n",
    "Exemplo de interação:\n",
    "```\n",
    "Digite os valores que deseja verificar a paridade (digite 0 para finalizar a entrada de dados):\n",
    "3\n",
    "ímpar\n",
    "8\n",
    "par\n",
    "12\n",
    "par\n",
    "5\n",
    "ímpar\n",
    "7ímpar\n",
    "```"
   ]
  },
  {
   "cell_type": "code",
   "execution_count": 10,
   "id": "e3c31a78",
   "metadata": {},
   "outputs": [
    {
     "name": "stdout",
     "output_type": "stream",
     "text": [
      "O número 1 é ímpar\n",
      "O número 2 é par\n",
      "O número 0 é para sair do aplicativo.\n"
     ]
    }
   ],
   "source": [
    "fPar = (lambda n: print(f\"O número {n} é par\") if ((n % 2) == 0) \n",
    "        else print(f\"O número {n} é ímpar\") )\n",
    "\n",
    "nNum1=int(input(\"Entre com valores: digite 0(zero) para sair\"))\n",
    "while (nNum1 != 0):\n",
    "    fPar(nNum1)\n",
    "    nNum1=int(input(\"Entre os próximos valores: digite 0(zero) para sair\"))\n",
    "print(f\"O número {nNum1} é para sair do aplicativo.\")"
   ]
  },
  {
   "cell_type": "markdown",
   "id": "5a87474d",
   "metadata": {},
   "source": [
    "### Q7.\n",
    "\n",
    "Escreva um programa que pergunte ao usuário qual operação ele deseja: maior ou menor.\n",
    "Em seguida leia uma quantidade indefinida de valores do usuário, até que o usuário digite o valor zero.\n",
    "Apresente ao final o maior ou menor dos valores digitados de acordo com a escolha do usuário.\n",
    "\n",
    "**Sua solução deve incluir pelo menos uma função ```lambda```** \n",
    "\n",
    "Exemplo de interação:\n",
    "```\n",
    "Opções: (1) maior ou (2) menor?\n",
    "Opção: 1\n",
    "\n",
    "Digite os valores de entrada. Digite 0 para finalizar a entrada de valores.\n",
    "4\n",
    "12\n",
    "15\n",
    "1\n",
    "0\n",
    "\n",
    "O maior valor é: 15\n",
    "```"
   ]
  },
  {
   "cell_type": "code",
   "execution_count": 15,
   "id": "ee3f68ca",
   "metadata": {},
   "outputs": [
    {
     "name": "stdout",
     "output_type": "stream",
     "text": [
      " 1\n",
      " 2\n",
      " 3\n",
      " 4\n",
      " 5\n",
      " Você escolheu sair ao digitar o número zero.\n",
      "O menor número é: 1\n"
     ]
    }
   ],
   "source": [
    "## Escreva aqui o programa principal \n",
    "sTextoOperador = (lambda sOp: 'menor' if (sOp == '<') else 'maior')\n",
    "\n",
    "\n",
    "sOperador=input(\"Insira o operador > (maior) ou < (menor): \")\n",
    "nNum1 = int(input(\"Insira o número 1: \"))\n",
    "nAvaliado = nNum1\n",
    "if (nNum1!=0):\n",
    "    print(f\" {nNum1}\")\n",
    "else: \n",
    "    print(f\" Você escolheu sair ao digitar o número zero.\")\n",
    "\n",
    "while (nNum1 != 0):\n",
    "    if (sOperador == '>'):\n",
    "        if (nNum1 > nAvaliado):\n",
    "            nAvaliado = nNum1 \n",
    "    elif (sOperador == '<'):    \n",
    "        if (nNum1 < nAvaliado):\n",
    "            nAvaliado = nNum1 \n",
    "    nNum1=int(input(\"Insira o próximo número: \"))\n",
    "    if (nNum1!=0):\n",
    "        print(f\" {nNum1}\")\n",
    "    else: \n",
    "        print(f\" Você escolheu sair ao digitar o número zero.\")\n",
    "print(f\"O {sTextoOperador(sOperador)} número é: {nAvaliado}\")"
   ]
  }
 ],
 "metadata": {
  "kernelspec": {
   "display_name": "Python 3 (ipykernel)",
   "language": "python",
   "name": "python3"
  },
  "language_info": {
   "codemirror_mode": {
    "name": "ipython",
    "version": 3
   },
   "file_extension": ".py",
   "mimetype": "text/x-python",
   "name": "python",
   "nbconvert_exporter": "python",
   "pygments_lexer": "ipython3",
   "version": "3.12.4"
  }
 },
 "nbformat": 4,
 "nbformat_minor": 5
}
