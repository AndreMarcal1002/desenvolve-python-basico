{
  "cells": [
    {
      "cell_type": "markdown",
      "metadata": {
        "id": "1pCTdOHonv5f"
      },
      "source": [
        "# Módulo 2\n",
        "\n",
        "## 2.3 Instruções e Expressões\n",
        "\n",
        "### Q1\n",
        "\n",
        "Faça um programa que armazene o valor de 20 reais de salário por hora de um trabalhador, e o número de 40 horas trabalhadas na semana. Com essas informações, calcule e imprima:\n",
        "- Salário semanal bruto\n",
        "- Valor descontado por semana INSS (10% do bruto)\n",
        "- Valor descontado por semana pelo sindicato (5% do bruto)\n",
        "- Salário semanal líquido (Bruto - Descontos)"
      ]
    },
    {
      "cell_type": "code",
      "execution_count": 1,
      "metadata": {
        "id": "hVbX0I97nj6M"
      },
      "outputs": [
        {
          "name": "stdout",
          "output_type": "stream",
          "text": [
            "Salário semanal bruto:  800\n",
            "Desconto do INSS:  80.0\n",
            "Desconto do sindicato:  40.0\n",
            "Salário semanal bruto:  680.0\n"
          ]
        }
      ],
      "source": [
        "## Escreva e execute seu código aqui\n",
        "salario_hora=20 \n",
        "jornada_semanal=40\n",
        "salario_semanal_bruto=salario_hora * jornada_semanal\n",
        "desconto_inss=salario_semanal_bruto * 0.10 \n",
        "desconto_sindicato=salario_semanal_bruto * 0.05 \n",
        "salario_semanal_liquido=salario_semanal_bruto-desconto_inss-desconto_sindicato \n",
        "print(\"Salário semanal bruto: \", salario_semanal_bruto) \n",
        "print(\"Desconto do INSS: \", desconto_inss) \n",
        "print(\"Desconto do sindicato: \", desconto_sindicato) \n",
        "print(\"Salário semanal bruto: \", salario_semanal_liquido)"
      ]
    },
    {
      "cell_type": "markdown",
      "metadata": {
        "id": "pIxKX9J2oGZ1"
      },
      "source": [
        "### Q2\n",
        "\n",
        "Altere o programa anterior para a partir dos valores de horas trabalhadas por semana e salário por hora, calcular **em somente duas instruções**:\n",
        "- Salário semanal bruto\n",
        "- Salário semanal líquido com todos os descontos. Para a segunda instrução, realize todos os cálculos aritméticos em uma expressão composta.\n"
      ]
    },
    {
      "cell_type": "code",
      "execution_count": 2,
      "metadata": {
        "id": "pAHw9Xf9oGoi"
      },
      "outputs": [
        {
          "name": "stdout",
          "output_type": "stream",
          "text": [
            "Salário semanal bruto:  800\n",
            "Salário semanal bruto:  680.0\n"
          ]
        }
      ],
      "source": [
        "## Escreva e execute seu código aqui\n",
        "salario_hora=20 \n",
        "jornada_semanal=40\n",
        "salario_semanal_bruto=salario_hora * jornada_semanal\n",
        "salario_semanal_liquido=salario_semanal_bruto-desconto_inss-desconto_sindicato \n",
        "print(\"Salário semanal bruto: \", (salario_hora * jornada_semanal)) \n",
        "print(\"Salário semanal bruto: \", (salario_hora * jornada_semanal)*0.85)"
      ]
    },
    {
      "cell_type": "markdown",
      "metadata": {
        "id": "m8tlHRuWpBOB"
      },
      "source": [
        "### Q3\n",
        "\n",
        "Você está desenvolvendo um software de conversão de moeda e precisa calcular o valor equivalente em yuan chinês a partir de uma quantia em real. A taxa de câmbio é de 0.69 BRL (real) para 1 CNY (yuan). Escreva um programa que define em uma variável uma quantia em reais (BRL) e calcula o valor equivalente em yuan (CNY). Imprima o resultado."
      ]
    },
    {
      "cell_type": "code",
      "execution_count": 4,
      "metadata": {
        "id": "2bPw7uF6oeL9"
      },
      "outputs": [
        {
          "name": "stdout",
          "output_type": "stream",
          "text": [
            "A conversão de  100 reais equivale a  144.92753623188406 yuan(s)\n"
          ]
        }
      ],
      "source": [
        "## Escreva e execute seu código aqui\n",
        "valor_real=100 \n",
        "taxa_cambio_real=0.69 \n",
        "valor_yuan=valor_real/taxa_cambio_real\n",
        "print(\"A conversão de \", valor_real, \"reais equivale a \", valor_yuan, \"yuan(s)\") "
      ]
    },
    {
      "cell_type": "markdown",
      "metadata": {
        "id": "-Na3ltDCp74A"
      },
      "source": [
        "### Q4\n",
        "\n",
        "Você é um treinador de corrida e deseja calcular a velocidade média que um atleta precisa manter para completar a Maratona Internacional de São Silvestre, que tem uma distância total de 42.195 km. A fórmula para calcular a velocidade média ($v\\_media$) é dada por $v\\_media = \\frac{distancia}{tempo}$ . Escreva um programa em Python para calcular a velocidade média necessária para completar a maratona em 3 horas.\n",
        "\n",
        "**Calcule e imprima o resultado em metros/segundo**, ou seja, converta a distância de quilômetros para metros ($metro = \\frac{km}{1000}$) e a velocidade de horas para segundos $(segundo = \\frac{hora}{3600})$."
      ]
    },
    {
      "cell_type": "code",
      "execution_count": 9,
      "metadata": {
        "id": "Bn6l8kcSrE4L"
      },
      "outputs": [
        {
          "name": "stdout",
          "output_type": "stream",
          "text": [
            "A velocidade média (km/h) é:  14.065\n",
            "A velocidade média (m/s) é:  3.906944444444444\n"
          ]
        }
      ],
      "source": [
        "## Escreva e execute seu código aqui \n",
        "distancia=42.195 \n",
        "tempo=3\n",
        "vel_media= distancia/tempo \n",
        "print(\"A velocidade média (km/h) é: \", vel_media)\n",
        "print (\"A velocidade média (m/s) é: \", (vel_media/3.6))"
      ]
    }
  ],
  "metadata": {
    "colab": {
      "provenance": []
    },
    "kernelspec": {
      "display_name": "Python 3",
      "name": "python3"
    },
    "language_info": {
      "codemirror_mode": {
        "name": "ipython",
        "version": 3
      },
      "file_extension": ".py",
      "mimetype": "text/x-python",
      "name": "python",
      "nbconvert_exporter": "python",
      "pygments_lexer": "ipython3",
      "version": "3.12.4"
    }
  },
  "nbformat": 4,
  "nbformat_minor": 0
}
