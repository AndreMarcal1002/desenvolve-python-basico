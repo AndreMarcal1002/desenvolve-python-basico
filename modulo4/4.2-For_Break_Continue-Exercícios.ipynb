{
 "cells": [
  {
   "cell_type": "markdown",
   "id": "29e89030",
   "metadata": {},
   "source": [
    "# Módulo 4 - Repetições\n",
    "\n",
    "## Aulas 4.2 - Comando ```for``` e 4.3 Break e Continue"
   ]
  },
  {
   "cell_type": "markdown",
   "id": "a45b42df",
   "metadata": {},
   "source": [
    "### Q1.\n",
    "\n",
    "Crie um programa em Python que utilize o comando for para imprimir os números de 10 a 1, em ordem decrescente."
   ]
  },
  {
   "cell_type": "code",
   "execution_count": 33,
   "id": "55a75b3d",
   "metadata": {},
   "outputs": [
    {
     "name": "stdout",
     "output_type": "stream",
     "text": [
      "10\n",
      "9\n",
      "8\n",
      "7\n",
      "6\n",
      "5\n",
      "4\n",
      "3\n",
      "2\n",
      "1\n"
     ]
    }
   ],
   "source": [
    "## Escreva e execute seu código aqui\n",
    "i=0 \n",
    "for i in range(10,0,-1):\n",
    "    print(i)\n"
   ]
  },
  {
   "cell_type": "markdown",
   "id": "94b47c36",
   "metadata": {},
   "source": [
    "### Q2.\n",
    "\n",
    "Dado um número inteiro positivo informado pelo usuário, crie um programa em Python que utilize o comando for para calcular e exibir a soma dos números de 1 até o número informado. Ou seja, $1 + 2 + 3 + ... + n$\n",
    "\n",
    "Exemplo de interação:\n",
    "```\n",
    "Digite um número: 5\n",
    "A soma dos números de 1 a 5 é 15\n",
    "```\n"
   ]
  },
  {
   "cell_type": "code",
   "execution_count": 11,
   "id": "45b71596",
   "metadata": {},
   "outputs": [
    {
     "name": "stdout",
     "output_type": "stream",
     "text": [
      "Soma dos números de 1 até o 10: 55\n"
     ]
    }
   ],
   "source": [
    "## Escreva e execute seu código aqui\n",
    "nSoma=0\n",
    "i=0\n",
    "nNumero=int(input(\"Insira um inteiro positivo: \")) \n",
    "for i in range(1,nNumero+1,1):\n",
    "    nSoma=nSoma+i\n",
    "print(f\"Soma dos números de 1 até o {nNumero}: {nSoma}\")\n"
   ]
  },
  {
   "cell_type": "markdown",
   "id": "0411d170",
   "metadata": {},
   "source": [
    "### Q3.\n",
    "\n",
    "Escreva um programa que lê 10 valores inteiros positivos do usuário e ao final imprime a média dos valores digitados com duas casas decimais.\n",
    "\n",
    "```\n",
    "Digite 10 números positivos:\n",
    "3\n",
    "2\n",
    "12\n",
    "14\n",
    "20\n",
    "42\n",
    "19\n",
    "0\n",
    "8\n",
    "1\n",
    "A média dos valores digitados é 12.10\n",
    "```"
   ]
  },
  {
   "cell_type": "code",
   "execution_count": 14,
   "id": "3f72f358",
   "metadata": {},
   "outputs": [
    {
     "name": "stdout",
     "output_type": "stream",
     "text": [
      "A média dos valores é: 12.10\n"
     ]
    }
   ],
   "source": [
    "## Escreva e execute seu código aqui\n",
    "nSoma=0\n",
    "i=0\n",
    "for i in range(0,10,1):\n",
    "    nNumero=int(input(\"Insira 10 números inteiros positivos: \"))\n",
    "    nSoma=nSoma+nNumero\n",
    "print(f\"A média dos valores é: {nSoma/10:,.2f}\")"
   ]
  },
  {
   "cell_type": "markdown",
   "id": "d62e27ff",
   "metadata": {},
   "source": [
    "### Q4.\n",
    "\n",
    "Você vai criar um sistema que registra os resultados dos jogos do Atlético MG ao longo de um campeonato. Seu sistema vai receber os resultados de todos os jogos do Galo, e deve calcular a pontuação do time sabendo que vitórias valem 3 pontos, empates 1 ponto e derrotas 0 pontos.\n",
    "\n",
    "Entrada: <br>\n",
    "A primeira linha de entrada é um inteiro N com a quantidade jogos do galo. Para cada jogo você deve ler 2 inteiros, o primeiro com a quantidade de gols do galo e o segundo com a quantidade de gols do time oponente. \n",
    "\n",
    "Saída: <br>\n",
    "Apresente a soma de vitórias, empates e derrotas do galo, junto com o cálculo da pontuação total.\n",
    "\n",
    "Ex:\n",
    "```\n",
    "Entrada:\n",
    "4\n",
    "2\n",
    "0\n",
    "1\n",
    "1\n",
    "0\n",
    "3\n",
    "1\n",
    "0\n",
    "\n",
    "Saída:\n",
    "Vitórias: 2\n",
    "Empates: 1\n",
    "Derrotas: 1\n",
    "Pontuação: 7\n",
    "\n",
    "```\n",
    "\n",
    "\n"
   ]
  },
  {
   "cell_type": "code",
   "execution_count": 16,
   "id": "d3fdfc2a",
   "metadata": {},
   "outputs": [
    {
     "name": "stdout",
     "output_type": "stream",
     "text": [
      "A pontuação total é: 7\n",
      "Somatório de vitórias é: 2\n",
      "Somatório de empates é: 1\n",
      "Somatório de derrotas é: 1\n"
     ]
    }
   ],
   "source": [
    "## Escreva e execute seu código aqui\n",
    "i=0 \n",
    "nJogos=0 \n",
    "nPontuacao=0 \n",
    "nVitoria=0 \n",
    "nEmpate=0 \n",
    "nDerrota=0\n",
    "nGolMarcado=0 \n",
    "nGolSofrido=0 \n",
    "nJogos=int(input(\"Insira a quantidade de jogos: \"))\n",
    "for i in range(1, nJogos+1,1):\n",
    "    nGolMarcado=int(input(\"Insira a quantidade de gols marcados: \"))\n",
    "    nGolSofrido=int(input(\"Insira a quantidade de gols sofridos: \"))\n",
    "    if (nGolMarcado>nGolSofrido): \n",
    "        nVitoria=nVitoria+1 \n",
    "    elif (nGolMarcado==nGolSofrido):\n",
    "        nEmpate=nEmpate+1 \n",
    "    else: \n",
    "        nDerrota=nDerrota+1 \n",
    "nPontuacao=(nVitoria*3)+(nEmpate*1)\n",
    "print(f\"A pontuação total é: {nPontuacao}\")\n",
    "print(f\"Somatório de vitória(s) é: {nVitoria}\")\n",
    "print(f\"Somatório de empate(s) é: {nEmpate}\")\n",
    "print(f\"Somatório de derrota(s) é: {nDerrota}\")\n",
    "\n",
    "\n"
   ]
  },
  {
   "cell_type": "markdown",
   "id": "fc98604d",
   "metadata": {},
   "source": [
    "### Q5.\n",
    "\n",
    "Faça um programa que lê dois inteiros N e M, e imprime na tela um campo de batalha naval. O tabuleiro deve possuir N linhas e M colunas. A primeira linha é composta por um espaço em branco e o cabeçalho das colunas, ou seja, valores de 1 a M. As N linhas seguintes iniciam com o cabeçalho da linha, ou seja, seu número, seguido de M caracteres \"/\" (barra) indicando uma possível posição jogável. \n",
    "\n",
    "```\n",
    "Entrada:\n",
    "5\n",
    "4\n",
    "\n",
    "Saída:\n",
    "  1 2 3 4 \n",
    "1 / / / / \n",
    "2 / / / / \n",
    "3 / / / / \n",
    "4 / / / / \n",
    "5 / / / / \n",
    "```\n",
    "\n",
    "Para esse exercício, precisamos lembrar que o comando print implicitamente adiciona uma quebra de linha ao final da impressão. Podemos interferir no final da impressão adicionando mais uma entrada ao print. No exemplo, finalizamos cada linha com um espaço em branco:\n",
    "```python\n",
    "print(\"Texto qualquer\", end = \" \")\n",
    "```"
   ]
  },
  {
   "cell_type": "code",
   "execution_count": 50,
   "id": "a60ef197",
   "metadata": {},
   "outputs": [
    {
     "name": "stdout",
     "output_type": "stream",
     "text": [
      "  1  2  3  4  \n",
      "1 /  /  /  /  \n",
      "2 /  /  /  /  \n",
      "3 /  /  /  /  \n",
      "4 /  /  /  /  \n"
     ]
    }
   ],
   "source": [
    "## Escreva e execute seu código aqui\n",
    "iColuna=0\n",
    "iLinha=0\n",
    "nLinhas=0\n",
    "nColunas=0\n",
    "sColunas=\" \"\n",
    "nLinhas=int(input(\"Insira a quantidade linhas: \"))\n",
    "nColunas=int(input(\"Insira a quantidade colunas: \"))\n",
    "#imprime colunas \n",
    "for iColuna in range(1,nColunas+1,1):\n",
    "    sColunas=sColunas + f\" {iColuna} \"\n",
    "    # sColunas=sColunas+ \"  \" + str(i)\n",
    "print(sColunas, end=\" \") \n",
    "print(\"\") \n",
    "sColunas=\"\"\n",
    "# imprime as linhas\n",
    "for iLinha in range(1,nLinhas+1,1): \n",
    "    for iColuna in range(1,nColunas+1,1):\n",
    "        if iColuna==1:\n",
    "            sColunas=str(iLinha) + \" / \"\n",
    "        else: \n",
    "            sColunas=sColunas + \" / \"\n",
    "    print(sColunas, end=\" \")\n",
    "    print(\"\")"
   ]
  },
  {
   "cell_type": "markdown",
   "id": "4654dc0b",
   "metadata": {},
   "source": [
    "---\n",
    "## Break e Continue"
   ]
  },
  {
   "cell_type": "markdown",
   "id": "24fe9d85",
   "metadata": {},
   "source": [
    "### Q6.\n",
    "\n",
    "Escreva um programa que lê uma quantidade indefinida de valores e informa o maior e o menor valor digitados. A leitura é encerrada quando o usuário digitar o valor 0 (zero).\n",
    "\n",
    "```\n",
    "Entrada:\n",
    "12\n",
    "-1\n",
    "29\n",
    "11\n",
    "-5\n",
    "0\n",
    "\n",
    "Saída:\n",
    "Maior: 29\n",
    "Menor: -5\n",
    "```"
   ]
  },
  {
   "cell_type": "code",
   "execution_count": 53,
   "id": "ee1c466a",
   "metadata": {},
   "outputs": [
    {
     "name": "stdout",
     "output_type": "stream",
     "text": [
      "Menor valor é: -5\n",
      "Maior valor é: 29\n"
     ]
    }
   ],
   "source": [
    "## Escreva e execute seu código aqui\n",
    "nMaior=0\n",
    "nMenor=0 \n",
    "nValor=int(input(\"Insira um valor: \"))\n",
    "while (nValor!=0):\n",
    "    if (nValor<nMenor):\n",
    "        nMenor=nValor \n",
    "    elif (nValor>nMaior):\n",
    "        nMaior=nValor \n",
    "    nValor=int(input(\"Insira um valor: \"))\n",
    "    if (nValor==0):\n",
    "        break\n",
    "print(f\"Menor valor é: {nMenor}\")\n",
    "print(f\"Maior valor é: {nMaior}\")\n"
   ]
  },
  {
   "cell_type": "markdown",
   "id": "30d486f7",
   "metadata": {},
   "source": [
    "### Q7.\n",
    "\n",
    "Escreva um programa que lê uma quantidade indefinida de valores e informa o **produto** dos valores positivos digitados. A leitura é encerrada quando o usuário digitar o valor 0 (zero).\n",
    "\n",
    "```\n",
    "Entrada:\n",
    "2\n",
    "-1\n",
    "1\n",
    "3\n",
    "-5\n",
    "0\n",
    "\n",
    "Saída:\n",
    "Produto: 6\n",
    "```"
   ]
  },
  {
   "cell_type": "code",
   "execution_count": 64,
   "id": "2f1ac324",
   "metadata": {},
   "outputs": [
    {
     "name": "stdout",
     "output_type": "stream",
     "text": [
      "Entradas:  2  -1  1  3  -5  0  \n",
      "saída: O produto dos valores positivos digitados é: 6\n"
     ]
    }
   ],
   "source": [
    "## Escreva e execute seu código aqui\n",
    "nProduto=1 \n",
    "sColunas=\"Entradas: \"\n",
    "nValor=int(input(\"Insira um valor: \"))\n",
    "sColunas=sColunas + f\" {nValor} \"\n",
    "while (nValor!=0):\n",
    "    if (nValor>0):\n",
    "        nProduto=nProduto*nValor \n",
    "    nValor=int(input(\"Insira um valor: \"))\n",
    "    sColunas=sColunas + f\" {nValor} \"\n",
    "    if (nValor==0):\n",
    "        break\n",
    "print(sColunas, end=\" \") \n",
    "print(\"\") \n",
    "print(f\"saída: O produto dos valores positivos digitados é: {nProduto}\")"
   ]
  },
  {
   "cell_type": "markdown",
   "id": "e932f3cf",
   "metadata": {},
   "source": [
    "### Q8.\n",
    "\n",
    "Vamos fazer uma calculadora que aceita expressões aritméticas de qualquer tamanho até que o usuário digite a palavra \"Fim\". Sua calculadora executa apenas as operações \"+\", \"-\".\n",
    "\n",
    "```\n",
    "Entrada:\n",
    "5\n",
    "+\n",
    "8\n",
    "-\n",
    "3\n",
    "+\n",
    "2\n",
    "Fim\n",
    "\n",
    "Saída:\n",
    "12\n",
    "```"
   ]
  },
  {
   "cell_type": "code",
   "execution_count": 80,
   "id": "e835d870",
   "metadata": {},
   "outputs": [
    {
     "name": "stdout",
     "output_type": "stream",
     "text": [
      "Saída definitiva: 12.0\n"
     ]
    }
   ],
   "source": [
    "## Escreva e execute seu código aqui\n",
    "nResultado=0 \n",
    "nNum1=float(input(\"Insira o número 1: \"))\n",
    "sOperadorNew=input(\"Insira o operador (+ ,- , fim): \")\n",
    "sOperadorTeste=sOperadorNew\n",
    "sOperador=sOperadorNew\n",
    "nIteracao=1 #Informa iteração do while\n",
    "#Processamento\n",
    "while (sOperadorTeste != \"fim\"):\n",
    "    if (nIteracao == 1):\n",
    "        nResultado=nNum1 \n",
    "    else: \n",
    "        if (sOperador == \"+\"):\n",
    "            nResultado = (nResultado + nNum1)\n",
    "        if (sOperador == \"-\"):\n",
    "            nResultado = (nResultado - nNum1)\n",
    "    nNum1=float(input(\"Insira o próximo número: \"))\n",
    "    sOperador=sOperadorNew\n",
    "    sOperadorNew=input(\"Insira o próximo operador (+ ,- , fim): \")\n",
    "    nIteracao=nIteracao+1 \n",
    "    if (sOperadorNew == \"fim\"):\n",
    "        if (sOperador == \"+\"):\n",
    "            nResultado = (nResultado + nNum1)\n",
    "        if (sOperador == \"-\"):\n",
    "            nResultado = (nResultado - nNum1)\n",
    "    sOperadorTeste=sOperadorNew \n",
    "print(f\"Saída definitiva: {nResultado}\")"
   ]
  },
  {
   "cell_type": "markdown",
   "id": "dd7ab3fd",
   "metadata": {},
   "source": []
  }
 ],
 "metadata": {
  "kernelspec": {
   "display_name": "Python 3 (ipykernel)",
   "language": "python",
   "name": "python3"
  },
  "language_info": {
   "codemirror_mode": {
    "name": "ipython",
    "version": 3
   },
   "file_extension": ".py",
   "mimetype": "text/x-python",
   "name": "python",
   "nbconvert_exporter": "python",
   "pygments_lexer": "ipython3",
   "version": "3.12.4"
  }
 },
 "nbformat": 4,
 "nbformat_minor": 5
}
