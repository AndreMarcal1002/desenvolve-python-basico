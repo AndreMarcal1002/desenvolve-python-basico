{
 "cells": [
  {
   "cell_type": "markdown",
   "id": "0d5035b5",
   "metadata": {},
   "source": [
    "# Listas\n",
    "\n",
    "## Aulas 6.1 a 6.5 "
   ]
  },
  {
   "cell_type": "markdown",
   "id": "0bdece85",
   "metadata": {},
   "source": [
    "### Q1. \n",
    "\n",
    "Usando a função embutida ```map``` e criando uma função ```lambda```, transforme uma lista com os raios de múltiplas circunferências em uma nova lista com as respectivas áreas. O cálculo de cada área é dado por: ```pi*(raio**2)```\n",
    "- Use a constante pi da biblioteca math \n",
    "- Arredonde o resultado para 2 casas decimais\n"
   ]
  },
  {
   "cell_type": "code",
   "execution_count": 3,
   "id": "0a258eba",
   "metadata": {},
   "outputs": [
    {
     "name": "stdout",
     "output_type": "stream",
     "text": [
      "O cálculo de cada área é: [7.07, 2.01, 16.62, 78.54]\n"
     ]
    }
   ],
   "source": [
    "import math \n",
    "nRaio = 0\n",
    "lListaRaios = [1.5, 0.8, 2.3, 5.0]\n",
    "lListaArea = []\n",
    "lListaArea = map(lambda nRaio: round((nRaio**2)*math.pi, 2), lListaRaios)\n",
    "print(f\"O cálculo de cada área é: {list(lListaArea)}\")"
   ]
  },
  {
   "cell_type": "markdown",
   "id": "649a5082",
   "metadata": {},
   "source": [
    "### Q2. \n",
    "\n",
    "Crie uma função customizada e aplique a função embutida ```filter``` para operar em uma lista de listas contendo os lados de múltiplos triângulos. Construa uma nova lista contendo apenas os triângulos equiláteros, ou seja, com os três lados iguais.\n"
   ]
  },
  {
   "cell_type": "code",
   "execution_count": 5,
   "id": "47cb0573",
   "metadata": {},
   "outputs": [
    {
     "name": "stdout",
     "output_type": "stream",
     "text": [
      "Lista contendo triângulos equiláteros: [[2, 2, 2], [4, 4, 4]]\n"
     ]
    }
   ],
   "source": [
    "## Crie a função customizada\n",
    "def fbTestaEquilatero(lLista):\n",
    "    if (lLista[0]==lLista[1]) and (lLista[1]==lLista[2]):\n",
    "        return True\n",
    "    return False\n",
    "\n",
    "lListaLadosTriangulos  = [[2,2,2], [3,4,5], [3,2,2],[4,4,4]]\n",
    "lListaEquilateros = filter(fbTestaEquilatero, lListaLadosTriangulos) \n",
    "print(f\"Lista contendo triângulos equiláteros: {list(lListaEquilateros)}\")"
   ]
  },
  {
   "cell_type": "markdown",
   "id": "bb62d219",
   "metadata": {},
   "source": [
    "### Q3. \n",
    "Crie uma função chamada ```ordena_por_comprimento``` que aceite uma lista de strings e a ordene com base no comprimento das strings, do menor para o maior. Utilize a função ```sorte``` e uma expressão ```lambda```."
   ]
  },
  {
   "cell_type": "code",
   "execution_count": 18,
   "id": "add41556",
   "metadata": {},
   "outputs": [
    {
     "name": "stdout",
     "output_type": "stream",
     "text": [
      "[3, 4, 4, 4, 4, 5, 5, 8, 8]\n"
     ]
    }
   ],
   "source": [
    "### crie a função ordena_por_comprimento e retorne a lista resultado\n",
    "def fOrdenaComprimento(lLista):\n",
    "    lLista = (len(i) for i in lLista)\n",
    "    lLista = sorted(lLista)\n",
    "    return lLista\n",
    "\n",
    "lListaNome = [\"Joao\", \"Maria\", \"Jose\", \"Gabriela\", \"Sol\", \"Luna\", \"Bento\", \"Enzo\", \"Fernanda\"]\n",
    "\n",
    "lListaNomeOrdenada = map(fOrdenaComprimento,lListaNome)\n",
    "\n",
    "print(list(fOrdenaComprimento(lListaNome)))"
   ]
  },
  {
   "cell_type": "markdown",
   "id": "8710b1a7",
   "metadata": {},
   "source": [
    "### Q4.\n",
    "\n",
    "Crie uma lista de listas (uma matriz de 2 dimensões) de tamanho $n \\times n$, com $n$ dado pelo usuário. Cada elemento da matriz deve ser o produto dos índices da linha pela coluna.\n",
    "\n",
    "Exemplo:\n",
    "```\n",
    "Digite n: 4\n",
    "Matriz:\n",
    "[[0, 0, 0, 0],\n",
    " [0, 1, 2, 3],\n",
    " [0, 2, 4, 6],\n",
    " [0, 3, 6, 9]]\n",
    "```"
   ]
  },
  {
   "cell_type": "code",
   "execution_count": null,
   "id": "0b7ee921",
   "metadata": {},
   "outputs": [],
   "source": [
    "# Implemente sua solução aqui"
   ]
  },
  {
   "cell_type": "markdown",
   "id": "f41781df",
   "metadata": {},
   "source": [
    "### Q5.\n",
    "\n",
    "Dada uma lista de números inteiros, implemente uma função em Python chamada ```pares_unicos``` que encontre e retorne todos os pares únicos de elementos na lista cuja soma seja igual a um determinado valor. Considere que a ordem dos pares não é relevante."
   ]
  },
  {
   "cell_type": "code",
   "execution_count": null,
   "id": "7a76f765",
   "metadata": {},
   "outputs": [],
   "source": [
    "def pares_unicos(numeros, soma_objetivo):\n",
    "    # Implemente sua solução aqui\n",
    "\n",
    "# Exemplo de uso:\n",
    "nums = [3, 4, 5, 6, 7]\n",
    "soma = 10\n",
    "resultado = pares_unicos(nums, soma)\n",
    "print(resultado)  # Saída esperada: [(3, 7), (4, 6)]"
   ]
  },
  {
   "cell_type": "markdown",
   "id": "87e44893",
   "metadata": {},
   "source": [
    "### Q5.\n",
    "\n",
    "Escreva um programa para encontrar a diferença entre duas listas, incluindo elementos duplicados.\n",
    "\n",
    "Ex:\n",
    "```\n",
    "Listas originais: \n",
    "[1, 1, 2, 3, 3, 4, 4, 5, 6, 7]\n",
    "[1, 1, 2, 4, 5, 6]\n",
    "Diferença entre as listas:\n",
    "[3, 3, 4, 7]\n",
    "```"
   ]
  },
  {
   "cell_type": "code",
   "execution_count": 24,
   "id": "7edc027c",
   "metadata": {},
   "outputs": [
    {
     "name": "stdout",
     "output_type": "stream",
     "text": [
      "Lista 1: [1, 1, 2, 3, 3, 4, 4, 5, 6, 7]\n",
      "Lista 2: [1, 1, 2, 4, 5, 6]\n",
      "Diferença entre lista 1 e lista 2: [3, 3, 7]\n",
      "Diferença entre lista 2 e lista 1: [3, 3, 7]\n",
      "Diferença entre lista 1 e lista 1: []\n",
      "Diferença entre lista 2 e lista 2: []\n"
     ]
    }
   ],
   "source": [
    "lLista1 = [1, 1, 2, 3, 3, 4, 4, 5, 6, 7]\n",
    "lLista2 = [1, 1, 2, 4, 5, 6]\n",
    "\n",
    "def fDiferenca(lLista1, lLista2):\n",
    "    lListaDiferenca = [i for i in (lLista1 + lLista2) if (i not in lLista1) or (i not in lLista2)]\n",
    "    return lListaDiferenca\n",
    " \n",
    "print(f\"Lista 1: {lLista1}\") \n",
    "print(f\"Lista 2: {lLista2}\")\n",
    "print(f\"Diferença entre lista 1 e lista 2: {fDiferenca(lLista1, lLista2)}\") \n",
    "print(f\"Diferença entre lista 2 e lista 1: {fDiferenca(lLista2, lLista1)}\") \n",
    "print(f\"Diferença entre lista 1 e lista 1: {fDiferenca(lLista1, lLista1)}\")\n",
    "print(f\"Diferença entre lista 2 e lista 2: {fDiferenca(lLista2, lLista2)}\") "
   ]
  },
  {
   "cell_type": "markdown",
   "id": "f4c4236d",
   "metadata": {},
   "source": [
    "### Q6.\n",
    "\n",
    "Dada uma lista aleatória, escreva um programa que separa os valores em listas menores de acordo com o tamanho solicitado. Caso não seja possível repartir igualmente a lista original, a última sublista deve conter os elementos remanescentes, como indicado no exemplo a seguir.\n",
    "\n",
    "Note que seu programa deve continuar executando em um laço infinito até que o usuário informe o tamanho 0 na entrada solicitada.\n",
    "\n",
    "```\n",
    "Lista original:\n",
    "[12, 45, 23, 67, 78, 90, 45, 32, 100, 76, 38, 62, 73, 29, 83]\n",
    "\n",
    "Tamanho para divisão: 3\n",
    "Subslistas:\n",
    "[[12, 45, 23], [67, 78, 90], [45, 32, 100], [76, 38, 62], [73, 29, 83]]\n",
    "\n",
    "Tamanho para divisão: 4\n",
    "Subslistas: [[12, 45, 23, 67], [78, 90, 45, 32], [100, 76, 38, 62], [73, 29, 83]]\n",
    "\n",
    "Tamanho para divisão: 0\n",
    "```"
   ]
  },
  {
   "cell_type": "code",
   "execution_count": null,
   "id": "792563de",
   "metadata": {},
   "outputs": [],
   "source": [
    "import random\n",
    "lista = [random.randint(1,100) for i in range(20)]\n",
    "\n",
    "# Implemente sua solução aqui"
   ]
  },
  {
   "cell_type": "markdown",
   "id": "c65be32f",
   "metadata": {},
   "source": [
    "### Q7.\n",
    "\n",
    "Você está desenvolvendo um programa para determinar o vencedor de um jogo da velha. Escreva uma função ```avalia_tabuleiro()``` que recebe uma lista representando o estado atual do tabuleiro e determina se há um vencedor. \n",
    "\n",
    "A lista terá 3 sublistas, cada uma representando uma linha do tabuleiro. Cada elemento das sublistas pode ser 'X', 'O' ou vazio (' ').\n",
    "\n",
    "O programa deve imprimir o vencedor ('X', 'O'), se houver um, ou \"Empate\" se não houver vencedor. Um vencedor é determinado se houver três 'X' ou três 'O' em linha (horizontal, vertical ou diagonal).\n",
    "\n",
    "Exemplo:\n",
    "```python\n",
    "tabuleiro = [\n",
    "    ['X', 'O', 'X'],\n",
    "    [' ', 'X', 'O'],\n",
    "    ['O', ' ', 'O']\n",
    "]\n",
    "```\n",
    "O resultado seria \"Empate\", pois não há um vencedor no exemplo fornecido. \n",
    "\n",
    "Exemplo 2:\n",
    "```python\n",
    "tabuleiro = [\n",
    "    ['O', 'X', 'O'],\n",
    "    ['X', 'O', 'X'],\n",
    "    ['X', ' ', 'O']\n",
    "]\n",
    "```\n",
    "O resultado seria \"O\", pois 'O' venceu na diagonal central."
   ]
  },
  {
   "cell_type": "code",
   "execution_count": 34,
   "id": "720ca24d",
   "metadata": {},
   "outputs": [
    {
     "ename": "IndexError",
     "evalue": "list index out of range",
     "output_type": "error",
     "traceback": [
      "\u001b[1;31m---------------------------------------------------------------------------\u001b[0m",
      "\u001b[1;31mIndexError\u001b[0m                                Traceback (most recent call last)",
      "Cell \u001b[1;32mIn[34], line 42\u001b[0m\n\u001b[0;32m     39\u001b[0m \u001b[38;5;28;01melif\u001b[39;00m (nTabuleiro \u001b[38;5;241m==\u001b[39m \u001b[38;5;241m5\u001b[39m ): \n\u001b[0;32m     40\u001b[0m     lListaTabuleiro \u001b[38;5;241m=\u001b[39m [ [\u001b[38;5;124m'\u001b[39m\u001b[38;5;124mX\u001b[39m\u001b[38;5;124m'\u001b[39m, \u001b[38;5;124m'\u001b[39m\u001b[38;5;124mX\u001b[39m\u001b[38;5;124m'\u001b[39m, \u001b[38;5;124m'\u001b[39m\u001b[38;5;124mO\u001b[39m\u001b[38;5;124m'\u001b[39m], [\u001b[38;5;124m'\u001b[39m\u001b[38;5;124mX\u001b[39m\u001b[38;5;124m'\u001b[39m, \u001b[38;5;124m'\u001b[39m\u001b[38;5;124m \u001b[39m\u001b[38;5;124m'\u001b[39m, \u001b[38;5;124m'\u001b[39m\u001b[38;5;124mO\u001b[39m\u001b[38;5;124m'\u001b[39m], [\u001b[38;5;124m'\u001b[39m\u001b[38;5;124mO\u001b[39m\u001b[38;5;124m'\u001b[39m, \u001b[38;5;124m'\u001b[39m\u001b[38;5;124mO\u001b[39m\u001b[38;5;124m'\u001b[39m, \u001b[38;5;124m'\u001b[39m\u001b[38;5;124mX\u001b[39m\u001b[38;5;124m'\u001b[39m] ]\n\u001b[1;32m---> 42\u001b[0m nGanhador \u001b[38;5;241m=\u001b[39m \u001b[43mfAvaliaTabuleiro\u001b[49m\u001b[43m(\u001b[49m\u001b[43mlListaTabuleiro\u001b[49m\u001b[43m)\u001b[49m\n\u001b[0;32m     43\u001b[0m \u001b[38;5;28;01mif\u001b[39;00m (nGanhador \u001b[38;5;241m==\u001b[39m \u001b[38;5;241m0\u001b[39m):\n\u001b[0;32m     44\u001b[0m     \u001b[38;5;28mprint\u001b[39m(\u001b[38;5;124mf\u001b[39m\u001b[38;5;124m\"\u001b[39m\u001b[38;5;124mOcorreu empate no tabuleiro \u001b[39m\u001b[38;5;132;01m{\u001b[39;00mnAvalia\u001b[38;5;132;01m}\u001b[39;00m\u001b[38;5;124m\"\u001b[39m)\n",
      "Cell \u001b[1;32mIn[34], line 5\u001b[0m, in \u001b[0;36mfAvaliaTabuleiro\u001b[1;34m(lTab)\u001b[0m\n\u001b[0;32m      3\u001b[0m \u001b[38;5;28;01mdef\u001b[39;00m \u001b[38;5;21mfAvaliaTabuleiro\u001b[39m(lTab):\n\u001b[0;32m      4\u001b[0m     \u001b[38;5;66;03m#Verifica diagonal\u001b[39;00m\n\u001b[1;32m----> 5\u001b[0m     lDiagonalA \u001b[38;5;241m=\u001b[39m \u001b[43mlTab\u001b[49m\u001b[43m[\u001b[49m\u001b[38;5;241;43m0\u001b[39;49m\u001b[43m]\u001b[49m[\u001b[38;5;241m0\u001b[39m]\u001b[38;5;241m+\u001b[39mlTab[\u001b[38;5;241m1\u001b[39m][\u001b[38;5;241m1\u001b[39m]\u001b[38;5;241m+\u001b[39mlTab[\u001b[38;5;241m2\u001b[39m][\u001b[38;5;241m2\u001b[39m]\n\u001b[0;32m      6\u001b[0m     lDiagonalB \u001b[38;5;241m=\u001b[39m lTab[\u001b[38;5;241m0\u001b[39m][\u001b[38;5;241m2\u001b[39m]\u001b[38;5;241m+\u001b[39mlTab[\u001b[38;5;241m1\u001b[39m][\u001b[38;5;241m1\u001b[39m]\u001b[38;5;241m+\u001b[39mlTab[\u001b[38;5;241m2\u001b[39m][\u001b[38;5;241m0\u001b[39m]\n\u001b[0;32m      7\u001b[0m     \u001b[38;5;28;01mif\u001b[39;00m lDiagonalA\u001b[38;5;241m==\u001b[39m\u001b[38;5;241m3\u001b[39m \u001b[38;5;129;01mor\u001b[39;00m lDiagonalA\u001b[38;5;241m==\u001b[39m\u001b[38;5;241m-\u001b[39m\u001b[38;5;241m3\u001b[39m \u001b[38;5;129;01mor\u001b[39;00m lDiagonalB\u001b[38;5;241m==\u001b[39m\u001b[38;5;241m3\u001b[39m \u001b[38;5;129;01mor\u001b[39;00m lDiagonalB\u001b[38;5;241m==\u001b[39m\u001b[38;5;241m-\u001b[39m\u001b[38;5;241m3\u001b[39m:\n",
      "\u001b[1;31mIndexError\u001b[0m: list index out of range"
     ]
    }
   ],
   "source": [
    "### Escreva a função avalia_tabuleiro()\n",
    "\n",
    "def fAvaliaTabuleiro(lTab):\n",
    "    #Verifica diagonal\n",
    "    lDiagonalA = lTab[0][0]+lTab[1][1]+lTab[2][2]\n",
    "    lDiagonalB = lTab[0][2]+lTab[1][1]+lTab[2][0]\n",
    "    if lDiagonalA==3 or lDiagonalA==-3 or lDiagonalB==3 or lDiagonalB==-3:\n",
    "        return 1\n",
    "    #Verifica linha\n",
    "    for x in range(0,3,1):\n",
    "        nSomaX = (lTab[x][0]+lTab[x][1]+lTab[x][2])\n",
    "        if (nSomaX==3 or nSomaX ==-3):\n",
    "            return 1\n",
    "\n",
    "    #Verifica coluna\n",
    "    for y in range(0,3,1):\n",
    "        nSomaY = (lTab[0][y]+lTab[1][y]+lTab[2][y])\n",
    "        if (nSomaY==3 or nSomaY ==-3):\n",
    "            return 1\n",
    "\n",
    "    return 0\n",
    "\n",
    "nTabuleiro=0\n",
    "lListaTabuleiro= []\n",
    "\n",
    "for nTabuleiro in range (5):\n",
    "    if (nTabuleiro == 1 ): \n",
    "        lListaTabuleiro = [ ['X', 'O', 'X'], [' ', 'X', 'O'], ['O', ' ', 'X'] ]\n",
    "        \n",
    "    elif (nTabuleiro == 2 ): \n",
    "        lListaTabuleiro = [ ['X', 'O', 'O'], ['X', 'X', 'O'], ['X', 'O', 'X'] ]\n",
    "        \n",
    "    elif (nTabuleiro == 3 ): \n",
    "        lListaTabuleiro = [ [' ', ' ', ' '], ['X', ' ', 'O'], ['O', 'X', 'X'] ]\n",
    "        \n",
    "    elif (nTabuleiro == 4 ): \n",
    "        lListaTabuleiro = [ ['O', 'O', 'O'], ['X', ' ', 'X'], ['O', 'X', 'X'] ]\n",
    "        \n",
    "    elif (nTabuleiro == 5 ): \n",
    "        lListaTabuleiro = [ ['X', 'X', 'O'], ['X', ' ', 'O'], ['O', 'O', 'X'] ]\n",
    "    \n",
    "    nGanhador = fAvaliaTabuleiro(lListaTabuleiro)\n",
    "    if (nGanhador == 0):\n",
    "        print(f\"Ocorreu empate no tabuleiro {nAvalia}\")\n",
    "    elif (nGanhador == 1):\n",
    "            print(f\"Jogador X ganhou no tabuleiro {nAvalia}\")\n",
    "    elif (nGanhador == 2):\n",
    "        print(f\"Jogador 0 ganhou no tabuleiro {nAvalia}\")\n",
    "    else: \n",
    "        print(f\"Ocorreu um erro\")\n",
    "    \n"
   ]
  }
 ],
 "metadata": {
  "kernelspec": {
   "display_name": "Python 3 (ipykernel)",
   "language": "python",
   "name": "python3"
  },
  "language_info": {
   "codemirror_mode": {
    "name": "ipython",
    "version": 3
   },
   "file_extension": ".py",
   "mimetype": "text/x-python",
   "name": "python",
   "nbconvert_exporter": "python",
   "pygments_lexer": "ipython3",
   "version": "3.12.5"
  }
 },
 "nbformat": 4,
 "nbformat_minor": 5
}
